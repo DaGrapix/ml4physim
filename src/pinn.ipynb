{
 "cells": [
  {
   "cell_type": "code",
   "execution_count": null,
   "metadata": {},
   "outputs": [],
   "source": [
    "import torch\n",
    "import torch.nn as nn\n",
    "import torch.nn.functional as F\n",
    "import torch.optim as optim\n",
    "import numpy as np\n",
    "import random\n",
    "import time\n",
    "import os"
   ]
  },
  {
   "cell_type": "code",
   "execution_count": null,
   "metadata": {},
   "outputs": [],
   "source": [
    "# create a dataset using torch.dataset for estimating the sinc function\n",
    "class ExpDataset(torch.utils.data.Dataset):\n",
    "    def __init__(self, n_samples, n_targets=1, n_features=1):\n",
    "        self.n_samples = n_samples\n",
    "        self.n_features = n_features\n",
    "        self.n_targets = n_targets\n",
    "        self.data = np.random.uniform(-10, 10, (n_samples, n_features))\n",
    "        self.target = np.exp(-self.data)\n",
    "        self.data = torch.tensor(self.data, dtype=torch.float32)\n",
    "        self.target = torch.tensor(self.target, dtype=torch.float32)\n",
    "\n",
    "    def __len__(self):\n",
    "        return self.n_samples\n",
    "\n",
    "    def __getitem__(self, idx):\n",
    "        return self.data[idx], self.target[idx]\n",
    "\n",
    "# create a simple neural network\n",
    "class Net(nn.Module):\n",
    "    def __init__(self, n_features, n_targets):\n",
    "        super(Net, self).__init__()\n",
    "        self.fc1 = nn.Linear(n_features, 30)\n",
    "        self.fc2 = nn.Linear(30, 30)\n",
    "        self.fc3 = nn.Linear(30, 30)\n",
    "        self.fc4 = nn.Linear(30, n_targets)\n",
    "\n",
    "    def forward(self, x):\n",
    "        x = F.relu(self.fc1(x))\n",
    "        x = F.relu(self.fc2(x))\n",
    "        x = F.relu(self.fc3(x))\n",
    "        x = self.fc4(x)\n",
    "        return x"
   ]
  },
  {
   "cell_type": "code",
   "execution_count": null,
   "metadata": {},
   "outputs": [],
   "source": [
    "# Instantiate the dataset\n",
    "n_samples = 10000\n",
    "n_features = 1\n",
    "n_targets = 1\n",
    "dataset = ExpDataset(n_samples, n_features, n_targets)\n",
    "\n",
    "# Create a dataloader\n",
    "dataloader = torch.utils.data.DataLoader(dataset, batch_size=32, shuffle=True)\n",
    "\n",
    "# Instantiate the model\n",
    "model = Net(n_features, n_targets).to('cuda:0')\n",
    "\n",
    "# Define a loss function and an optimizer\n",
    "loss_fn = torch.nn.MSELoss()\n",
    "optimizer = torch.optim.Adam(model.parameters(), lr=0.001)\n",
    "\n",
    "# Training loop\n",
    "n_epochs = 10\n",
    "for epoch in range(n_epochs):\n",
    "    for batch in dataloader:\n",
    "        # Get the data and targets from the batch\n",
    "        data, targets = batch[0].to('cuda:0'), batch[1].to('cuda:0')\n",
    "\n",
    "        # Forward pass\n",
    "        output = model(data)\n",
    "\n",
    "        # Compute the loss\n",
    "        loss = loss_fn(output, targets)\n",
    "\n",
    "        # Backward pass and optimization\n",
    "        optimizer.zero_grad()\n",
    "        loss.backward()\n",
    "        optimizer.step()\n",
    "\n",
    "    # Print the loss for this epoch\n",
    "    print(f\"Epoch {epoch+1}/{n_epochs} Loss: {loss.item()}\")\n",
    "\n",
    "# plot the model predictions against the true targets\n",
    "import matplotlib.pyplot as plt\n",
    "with torch.no_grad():\n",
    "    x = torch.linspace(-10, 10, 1000).view(-1, 1).to('cuda:0')\n",
    "    target = torch.sin(x).squeeze().detach().cpu()\n",
    "    predictions = model(x).squeeze().detach().cpu()\n",
    "    x_in = x.squeeze().detach().cpu()\n",
    "    plt.plot(x_in, target)\n",
    "    plt.plot(x_in, predictions, c='r')\n",
    "    plt.xlabel('True targets')\n",
    "    plt.ylabel('Predictions')\n",
    "    plt.show()"
   ]
  },
  {
   "cell_type": "code",
   "execution_count": null,
   "metadata": {},
   "outputs": [],
   "source": [
    "def grad(outputs, inputs):\n",
    "    \"\"\"Computes the partial derivative of \n",
    "    an output with respect to an input.\"\"\"\n",
    "    return torch.autograd.grad(\n",
    "        outputs, \n",
    "        inputs, \n",
    "        grad_outputs=torch.ones_like(outputs), \n",
    "        create_graph=True\n",
    "    )\n",
    "\n",
    "def physics_loss(model: torch.nn.Module, device=\"cuda:0\"):\n",
    "    \"\"\"The physics loss of the model\"\"\"\n",
    "    # run the collocation points through the network\n",
    "    out = model(x)\n",
    "    # get the gradient\n",
    "    gr = grad(out, x)[0]\n",
    "    # compute the ODE\n",
    "    true_grad = - torch.exp(-x)\n",
    "    ode = (gr - true_grad)\n",
    "    # MSE of ODE\n",
    "    return torch.mean(ode**2)\n",
    "\n",
    "# define a new loss function\n",
    "class SincLoss(nn.Module):\n",
    "    def __init__(self):\n",
    "        super(SincLoss, self).__init__()\n",
    "\n",
    "    def forward(self, output, target, gradient_output, gradient_target):\n",
    "        mse_loss        = torch.mean((torch.sinc(output) - torch.sinc(target))**2)\n",
    "        return 0.5*(mse_loss)"
   ]
  },
  {
   "cell_type": "code",
   "execution_count": null,
   "metadata": {},
   "outputs": [],
   "source": [
    "# Instantiate the dataset\n",
    "n_samples = 10000\n",
    "n_features = 1\n",
    "n_targets = 1\n",
    "dataset = ExpDataset(n_samples, n_features, n_targets)\n",
    "\n",
    "# Create a dataloader\n",
    "dataloader = torch.utils.data.DataLoader(dataset, batch_size=32, shuffle=True)\n",
    "\n",
    "# Instantiate the model\n",
    "model = Net(n_features, n_targets).to('cuda:0')\n",
    "\n",
    "# Define a loss function and an optimizer\n",
    "loss_fn = torch.nn.MSELoss()\n",
    "optimizer = torch.optim.Adam(model.parameters(), lr=0.001)"
   ]
  },
  {
   "cell_type": "code",
   "execution_count": null,
   "metadata": {},
   "outputs": [],
   "source": [
    "# Training loop\n",
    "n_epochs = 10\n",
    "for epoch in range(n_epochs):\n",
    "    for batch in dataloader:\n",
    "        # Get the data and targets from the batch\n",
    "        data, targets = batch[0].to('cuda:0'), batch[1].to('cuda:0')\n",
    "\n",
    "        # Forward pass\n",
    "        output = model(data)\n",
    "\n",
    "        # Compute the loss\n",
    "        loss = loss_fn(output, targets) + 0.1*physics_loss(model)\n",
    "\n",
    "        # Backward pass and optimization\n",
    "        optimizer.zero_grad()\n",
    "        loss.backward()\n",
    "        optimizer.step()\n",
    "\n",
    "    # Print the loss for this epoch\n",
    "    print(f\"Epoch {epoch+1}/{n_epochs} Loss: {loss.item()}\")"
   ]
  },
  {
   "cell_type": "code",
   "execution_count": null,
   "metadata": {},
   "outputs": [],
   "source": [
    "# plot the model predictions against the true targets\n",
    "import matplotlib.pyplot as plt\n",
    "with torch.no_grad():\n",
    "    x = torch.linspace(-20, 20, 1000).view(-1, 1).to('cuda:0')\n",
    "    target = torch.exp(-x).squeeze().detach().cpu()\n",
    "    predictions = model(x).squeeze().detach().cpu()\n",
    "    x_in = x.squeeze().detach().cpu()\n",
    "    plt.plot(x_in, target)\n",
    "    plt.plot(x_in, predictions, c='r')\n",
    "    plt.xlabel('True targets')\n",
    "    plt.ylabel('Predictions')\n",
    "    plt.show()"
   ]
  },
  {
   "cell_type": "code",
   "execution_count": null,
   "metadata": {},
   "outputs": [],
   "source": [
    "target[500]"
   ]
  },
  {
   "cell_type": "code",
   "execution_count": null,
   "metadata": {},
   "outputs": [],
   "source": [
    "# plot torch.exp(-x)\n",
    "with torch.no_grad():\n",
    "    x = torch.linspace(-20, 20, 1000).view(-1, 1).to('cuda:0')\n",
    "    target = torch.exp(-x.squeeze()).detach().cpu()\n",
    "    x_in = x.squeeze().detach().cpu()\n",
    "    plt.plot(x_in, target)\n",
    "    plt.xlabel('x')\n",
    "    plt.ylabel('exp(-x)')\n",
    "    plt.show()"
   ]
  },
  {
   "cell_type": "code",
   "execution_count": null,
   "metadata": {},
   "outputs": [],
   "source": [
    "torch.exp(torch.tensor(-1))"
   ]
  },
  {
   "cell_type": "markdown",
   "metadata": {},
   "source": [
    "---\n"
   ]
  },
  {
   "cell_type": "code",
   "execution_count": 149,
   "metadata": {},
   "outputs": [],
   "source": [
    "Tenv = 25\n",
    "T0 = 100\n",
    "R = 0.005\n",
    "\n",
    "def grad(outputs, inputs):\n",
    "    \"\"\"Computes the partial derivative of \n",
    "    an output with respect to an input.\n",
    "    Args:\n",
    "        outputs: (N, 1) tensor\n",
    "        inputs: (N, D) tensor\n",
    "    \"\"\"\n",
    "    return torch.autograd.grad(\n",
    "        outputs, inputs, grad_outputs=torch.ones_like(outputs), create_graph=True\n",
    "    )\n",
    "\n",
    "\n",
    "def cooling_law(time, Tenv, T0, R):\n",
    "    T = Tenv + (T0 - Tenv) * np.exp(-R * time)\n",
    "    return T\n",
    "\n",
    "def physics_loss(model: torch.nn.Module):\n",
    "    ts = torch.linspace(0, 1000, steps=1000,).view(-1,1).requires_grad_(True).to(\"cuda:0\")\n",
    "    temps = model(ts)\n",
    "    dT = grad(temps, ts)[0]\n",
    "    pde = R*(Tenv - temps) - dT\n",
    "    \n",
    "    return torch.mean(pde**2)"
   ]
  },
  {
   "cell_type": "code",
   "execution_count": 147,
   "metadata": {},
   "outputs": [
    {
     "ename": "RuntimeError",
     "evalue": "If `is_grads_batched=True`, we interpret the first dimension of each grad_output as the batch dimension. The sizes of the remaining dimensions are expected to match the shape of corresponding output, but a mismatch was detected: grad_output[0] has a shape of torch.Size([]) and output[0] has a shape of torch.Size([1000, 1]). If you only want some tensors in `grad_output` to be considered batched, consider using vmap.",
     "output_type": "error",
     "traceback": [
      "\u001b[1;31m---------------------------------------------------------------------------\u001b[0m",
      "\u001b[1;31mRuntimeError\u001b[0m                              Traceback (most recent call last)",
      "Cell \u001b[1;32mIn[147], line 36\u001b[0m\n\u001b[0;32m     33\u001b[0m output \u001b[38;5;241m=\u001b[39m model(data)\n\u001b[0;32m     35\u001b[0m \u001b[38;5;66;03m# Compute the loss\u001b[39;00m\n\u001b[1;32m---> 36\u001b[0m loss \u001b[38;5;241m=\u001b[39m loss_fn(output, targets) \u001b[38;5;241m+\u001b[39m \u001b[43mphysics_loss\u001b[49m\u001b[43m(\u001b[49m\u001b[43mmodel\u001b[49m\u001b[43m)\u001b[49m\n\u001b[0;32m     38\u001b[0m \u001b[38;5;66;03m# Backward pass and optimization\u001b[39;00m\n\u001b[0;32m     39\u001b[0m optimizer\u001b[38;5;241m.\u001b[39mzero_grad()\n",
      "Cell \u001b[1;32mIn[146], line 24\u001b[0m, in \u001b[0;36mphysics_loss\u001b[1;34m(model)\u001b[0m\n\u001b[0;32m     22\u001b[0m ts \u001b[38;5;241m=\u001b[39m torch\u001b[38;5;241m.\u001b[39mlinspace(\u001b[38;5;241m0\u001b[39m, \u001b[38;5;241m1000\u001b[39m, steps\u001b[38;5;241m=\u001b[39m\u001b[38;5;241m1000\u001b[39m,)\u001b[38;5;241m.\u001b[39mview(\u001b[38;5;241m-\u001b[39m\u001b[38;5;241m1\u001b[39m,\u001b[38;5;241m1\u001b[39m)\u001b[38;5;241m.\u001b[39mrequires_grad_(\u001b[38;5;28;01mTrue\u001b[39;00m)\u001b[38;5;241m.\u001b[39mto(\u001b[38;5;124m\"\u001b[39m\u001b[38;5;124mcuda:0\u001b[39m\u001b[38;5;124m\"\u001b[39m)\n\u001b[0;32m     23\u001b[0m temps \u001b[38;5;241m=\u001b[39m model(ts)\n\u001b[1;32m---> 24\u001b[0m dT \u001b[38;5;241m=\u001b[39m \u001b[43mgrad\u001b[49m\u001b[43m(\u001b[49m\u001b[43mtemps\u001b[49m\u001b[43m,\u001b[49m\u001b[43m \u001b[49m\u001b[43mts\u001b[49m\u001b[43m)\u001b[49m[\u001b[38;5;241m0\u001b[39m]\n\u001b[0;32m     25\u001b[0m pde \u001b[38;5;241m=\u001b[39m R\u001b[38;5;241m*\u001b[39m(Tenv \u001b[38;5;241m-\u001b[39m temps) \u001b[38;5;241m-\u001b[39m dT\n\u001b[0;32m     27\u001b[0m \u001b[38;5;28;01mreturn\u001b[39;00m torch\u001b[38;5;241m.\u001b[39mmean(pde\u001b[38;5;241m*\u001b[39m\u001b[38;5;241m*\u001b[39m\u001b[38;5;241m2\u001b[39m)\n",
      "Cell \u001b[1;32mIn[146], line 12\u001b[0m, in \u001b[0;36mgrad\u001b[1;34m(outputs, inputs)\u001b[0m\n\u001b[0;32m      5\u001b[0m \u001b[38;5;28;01mdef\u001b[39;00m \u001b[38;5;21mgrad\u001b[39m(outputs, inputs):\n\u001b[0;32m      6\u001b[0m \u001b[38;5;250m    \u001b[39m\u001b[38;5;124;03m\"\"\"Computes the partial derivative of \u001b[39;00m\n\u001b[0;32m      7\u001b[0m \u001b[38;5;124;03m    an output with respect to an input.\u001b[39;00m\n\u001b[0;32m      8\u001b[0m \u001b[38;5;124;03m    Args:\u001b[39;00m\n\u001b[0;32m      9\u001b[0m \u001b[38;5;124;03m        outputs: (N, 1) tensor\u001b[39;00m\n\u001b[0;32m     10\u001b[0m \u001b[38;5;124;03m        inputs: (N, D) tensor\u001b[39;00m\n\u001b[0;32m     11\u001b[0m \u001b[38;5;124;03m    \"\"\"\u001b[39;00m\n\u001b[1;32m---> 12\u001b[0m     \u001b[38;5;28;01mreturn\u001b[39;00m \u001b[43mtorch\u001b[49m\u001b[38;5;241;43m.\u001b[39;49m\u001b[43mautograd\u001b[49m\u001b[38;5;241;43m.\u001b[39;49m\u001b[43mgrad\u001b[49m\u001b[43m(\u001b[49m\n\u001b[0;32m     13\u001b[0m \u001b[43m        \u001b[49m\u001b[43moutputs\u001b[49m\u001b[43m,\u001b[49m\u001b[43m \u001b[49m\u001b[43minputs\u001b[49m\u001b[43m,\u001b[49m\u001b[43m \u001b[49m\u001b[43mgrad_outputs\u001b[49m\u001b[38;5;241;43m=\u001b[39;49m\u001b[43mtorch\u001b[49m\u001b[38;5;241;43m.\u001b[39;49m\u001b[43mones_like\u001b[49m\u001b[43m(\u001b[49m\u001b[43moutputs\u001b[49m\u001b[43m)\u001b[49m\u001b[43m,\u001b[49m\u001b[43m \u001b[49m\u001b[43mcreate_graph\u001b[49m\u001b[38;5;241;43m=\u001b[39;49m\u001b[38;5;28;43;01mTrue\u001b[39;49;00m\u001b[43m,\u001b[49m\u001b[43m \u001b[49m\u001b[43mis_grads_batched\u001b[49m\u001b[38;5;241;43m=\u001b[39;49m\u001b[38;5;28;43;01mTrue\u001b[39;49;00m\n\u001b[0;32m     14\u001b[0m \u001b[43m    \u001b[49m\u001b[43m)\u001b[49m\n",
      "File \u001b[1;32mc:\\Users\\antho\\.conda\\envs\\ml4science\\lib\\site-packages\\torch\\autograd\\__init__.py:367\u001b[0m, in \u001b[0;36mgrad\u001b[1;34m(outputs, inputs, grad_outputs, retain_graph, create_graph, only_inputs, allow_unused, is_grads_batched, materialize_grads)\u001b[0m\n\u001b[0;32m    360\u001b[0m     warnings\u001b[38;5;241m.\u001b[39mwarn(\n\u001b[0;32m    361\u001b[0m         \u001b[38;5;124m\"\u001b[39m\u001b[38;5;124monly_inputs argument is deprecated and is ignored now \u001b[39m\u001b[38;5;124m\"\u001b[39m\n\u001b[0;32m    362\u001b[0m         \u001b[38;5;124m\"\u001b[39m\u001b[38;5;124m(defaults to True). To accumulate gradient for other \u001b[39m\u001b[38;5;124m\"\u001b[39m\n\u001b[0;32m    363\u001b[0m         \u001b[38;5;124m\"\u001b[39m\u001b[38;5;124mparts of the graph, please use torch.autograd.backward.\u001b[39m\u001b[38;5;124m\"\u001b[39m\n\u001b[0;32m    364\u001b[0m     )\n\u001b[0;32m    366\u001b[0m grad_outputs_ \u001b[38;5;241m=\u001b[39m _tensor_or_tensors_to_tuple(grad_outputs, \u001b[38;5;28mlen\u001b[39m(t_outputs))\n\u001b[1;32m--> 367\u001b[0m grad_outputs_ \u001b[38;5;241m=\u001b[39m \u001b[43m_make_grads\u001b[49m\u001b[43m(\u001b[49m\n\u001b[0;32m    368\u001b[0m \u001b[43m    \u001b[49m\u001b[43mt_outputs\u001b[49m\u001b[43m,\u001b[49m\u001b[43m \u001b[49m\u001b[43mgrad_outputs_\u001b[49m\u001b[43m,\u001b[49m\u001b[43m \u001b[49m\u001b[43mis_grads_batched\u001b[49m\u001b[38;5;241;43m=\u001b[39;49m\u001b[43mis_grads_batched\u001b[49m\n\u001b[0;32m    369\u001b[0m \u001b[43m\u001b[49m\u001b[43m)\u001b[49m\n\u001b[0;32m    371\u001b[0m \u001b[38;5;28;01mif\u001b[39;00m retain_graph \u001b[38;5;129;01mis\u001b[39;00m \u001b[38;5;28;01mNone\u001b[39;00m:\n\u001b[0;32m    372\u001b[0m     retain_graph \u001b[38;5;241m=\u001b[39m create_graph\n",
      "File \u001b[1;32mc:\\Users\\antho\\.conda\\envs\\ml4science\\lib\\site-packages\\torch\\autograd\\__init__.py:70\u001b[0m, in \u001b[0;36m_make_grads\u001b[1;34m(outputs, grads, is_grads_batched)\u001b[0m\n\u001b[0;32m     66\u001b[0m out_shape, grad_shape \u001b[38;5;241m=\u001b[39m _calculate_shape(\n\u001b[0;32m     67\u001b[0m     out, first_grad, is_grads_batched\n\u001b[0;32m     68\u001b[0m )\n\u001b[0;32m     69\u001b[0m \u001b[38;5;28;01mif\u001b[39;00m is_grads_batched:\n\u001b[1;32m---> 70\u001b[0m     \u001b[38;5;28;01mraise\u001b[39;00m \u001b[38;5;167;01mRuntimeError\u001b[39;00m(\n\u001b[0;32m     71\u001b[0m         \u001b[38;5;124m\"\u001b[39m\u001b[38;5;124mIf `is_grads_batched=True`, we interpret the first \u001b[39m\u001b[38;5;124m\"\u001b[39m\n\u001b[0;32m     72\u001b[0m         \u001b[38;5;124m\"\u001b[39m\u001b[38;5;124mdimension of each grad_output as the batch dimension. \u001b[39m\u001b[38;5;124m\"\u001b[39m\n\u001b[0;32m     73\u001b[0m         \u001b[38;5;124m\"\u001b[39m\u001b[38;5;124mThe sizes of the remaining dimensions are expected to match \u001b[39m\u001b[38;5;124m\"\u001b[39m\n\u001b[0;32m     74\u001b[0m         \u001b[38;5;124m\"\u001b[39m\u001b[38;5;124mthe shape of corresponding output, but a mismatch \u001b[39m\u001b[38;5;124m\"\u001b[39m\n\u001b[0;32m     75\u001b[0m         \u001b[38;5;124m\"\u001b[39m\u001b[38;5;124mwas detected: grad_output[\u001b[39m\u001b[38;5;124m\"\u001b[39m\n\u001b[0;32m     76\u001b[0m         \u001b[38;5;241m+\u001b[39m \u001b[38;5;28mstr\u001b[39m(grads\u001b[38;5;241m.\u001b[39mindex(grad))\n\u001b[0;32m     77\u001b[0m         \u001b[38;5;241m+\u001b[39m \u001b[38;5;124m\"\u001b[39m\u001b[38;5;124m] has a shape of \u001b[39m\u001b[38;5;124m\"\u001b[39m\n\u001b[0;32m     78\u001b[0m         \u001b[38;5;241m+\u001b[39m \u001b[38;5;28mstr\u001b[39m(grad_shape)\n\u001b[0;32m     79\u001b[0m         \u001b[38;5;241m+\u001b[39m \u001b[38;5;124m\"\u001b[39m\u001b[38;5;124m and output[\u001b[39m\u001b[38;5;124m\"\u001b[39m\n\u001b[0;32m     80\u001b[0m         \u001b[38;5;241m+\u001b[39m \u001b[38;5;28mstr\u001b[39m(outputs\u001b[38;5;241m.\u001b[39mindex(out))\n\u001b[0;32m     81\u001b[0m         \u001b[38;5;241m+\u001b[39m \u001b[38;5;124m\"\u001b[39m\u001b[38;5;124m] has a shape of \u001b[39m\u001b[38;5;124m\"\u001b[39m\n\u001b[0;32m     82\u001b[0m         \u001b[38;5;241m+\u001b[39m \u001b[38;5;28mstr\u001b[39m(out_shape)\n\u001b[0;32m     83\u001b[0m         \u001b[38;5;241m+\u001b[39m \u001b[38;5;124m\"\u001b[39m\u001b[38;5;124m. \u001b[39m\u001b[38;5;124m\"\u001b[39m\n\u001b[0;32m     84\u001b[0m         \u001b[38;5;124m\"\u001b[39m\u001b[38;5;124mIf you only want some tensors in `grad_output` to be considered \u001b[39m\u001b[38;5;124m\"\u001b[39m\n\u001b[0;32m     85\u001b[0m         \u001b[38;5;124m\"\u001b[39m\u001b[38;5;124mbatched, consider using vmap.\u001b[39m\u001b[38;5;124m\"\u001b[39m\n\u001b[0;32m     86\u001b[0m     )\n\u001b[0;32m     87\u001b[0m \u001b[38;5;28;01melse\u001b[39;00m:\n\u001b[0;32m     88\u001b[0m     \u001b[38;5;28;01mraise\u001b[39;00m \u001b[38;5;167;01mRuntimeError\u001b[39;00m(\n\u001b[0;32m     89\u001b[0m         \u001b[38;5;124m\"\u001b[39m\u001b[38;5;124mMismatch in shape: grad_output[\u001b[39m\u001b[38;5;124m\"\u001b[39m\n\u001b[0;32m     90\u001b[0m         \u001b[38;5;241m+\u001b[39m \u001b[38;5;28mstr\u001b[39m(grads\u001b[38;5;241m.\u001b[39mindex(grad))\n\u001b[1;32m   (...)\u001b[0m\n\u001b[0;32m     97\u001b[0m         \u001b[38;5;241m+\u001b[39m \u001b[38;5;124m\"\u001b[39m\u001b[38;5;124m.\u001b[39m\u001b[38;5;124m\"\u001b[39m\n\u001b[0;32m     98\u001b[0m     )\n",
      "\u001b[1;31mRuntimeError\u001b[0m: If `is_grads_batched=True`, we interpret the first dimension of each grad_output as the batch dimension. The sizes of the remaining dimensions are expected to match the shape of corresponding output, but a mismatch was detected: grad_output[0] has a shape of torch.Size([]) and output[0] has a shape of torch.Size([1000, 1]). If you only want some tensors in `grad_output` to be considered batched, consider using vmap."
     ]
    },
    {
     "data": {
      "image/png": "[encoded data removed]",
      "text/plain": [
       "<Figure size 640x480 with 1 Axes>"
      ]
     },
     "metadata": {},
     "output_type": "display_data"
    }
   ],
   "source": [
    "import functools\n",
    "np.random.seed(10)\n",
    "\n",
    "times = np.linspace(0, 1000, 1000)\n",
    "eq = functools.partial(cooling_law, Tenv=Tenv, T0=T0, R=R)\n",
    "temps = eq(times)\n",
    "\n",
    "# Make training data\n",
    "t = np.linspace(0, 300, 10)\n",
    "T = eq(t) +  2 * np.random.randn(10)\n",
    "\n",
    "plt.plot(times, temps)\n",
    "plt.plot(t, T, 'o')\n",
    "plt.legend(['Equation', 'Training data'])\n",
    "plt.ylabel('Temperature (C)')\n",
    "plt.xlabel('Time (s)')\n",
    "\n",
    "model = Net(1,1).to(device=\"cuda:0\")\n",
    "\n",
    "# Define a loss function and an optimizer\n",
    "loss_fn = torch.nn.MSELoss()\n",
    "optimizer = torch.optim.Adam(model.parameters(), lr=0.001)\n",
    "\n",
    "# Training loop\n",
    "n_epochs = 3000\n",
    "\n",
    "for epoch in range(n_epochs):\n",
    "    # Get the data and targets from the batch\n",
    "    data = torch.tensor(t, dtype=torch.float32).view(-1,1).to(device=\"cuda:0\")\n",
    "    targets = torch.tensor(T, dtype=torch.float32).view(-1,1).to(device=\"cuda:0\")\n",
    "\n",
    "    # Forward pass\n",
    "    output = model(data)\n",
    "\n",
    "    # Compute the loss\n",
    "    loss = loss_fn(output, targets) + physics_loss(model)\n",
    "\n",
    "    # Backward pass and optimization\n",
    "    optimizer.zero_grad()\n",
    "    loss.backward()\n",
    "    optimizer.step()\n",
    "\n",
    "    # Print the loss for this epoch\n",
    "    print(f\"Epoch {epoch+1}/{n_epochs} Loss: {loss.item()}\")"
   ]
  },
  {
   "cell_type": "code",
   "execution_count": null,
   "metadata": {},
   "outputs": [],
   "source": [
    "eq = functools.partial(cooling_law, Tenv=Tenv, T0=T0, R=R)\n",
    "T = eq(times)\n",
    "x = torch.tensor(times, dtype=torch.float32).reshape(-1, 1).to(\"cuda:0\")\n",
    "\n",
    "preds = model(x).detach().cpu()\n",
    "\n",
    "plt.plot(times, temps, alpha=0.8)\n",
    "plt.plot(x.detach().cpu(), T, 'o')\n",
    "plt.plot(x.detach().cpu(), preds, alpha=0.8)\n",
    "plt.legend(labels=['Equation','Training data', 'PINN'])\n",
    "plt.ylabel('Temperature (C)')\n",
    "plt.xlabel('Time (s)')\n",
    "plt.show()"
   ]
  },
  {
   "cell_type": "markdown",
   "metadata": {},
   "source": [
    "---"
   ]
  },
  {
   "cell_type": "code",
   "execution_count": 176,
   "metadata": {},
   "outputs": [],
   "source": [
    "def f(x,y):\n",
    "    return np.hstack([x**2*y, y**2])\n",
    "\n",
    "#create dataset for f using torch.dataset\n",
    "class FDataset(torch.utils.data.Dataset):\n",
    "    def __init__(self, n_samples, n_features=2):\n",
    "        self.n_samples = n_samples\n",
    "        self.n_features = n_features\n",
    "        self.n_targets = n_targets\n",
    "        self.data = np.random.uniform(-10, 10, (n_samples, n_features))\n",
    "        self.target = f(self.data[:,0].reshape(-1, 1), self.data[:,1].reshape(-1, 1))\n",
    "        self.data = torch.tensor(self.data, dtype=torch.float32, requires_grad=True)\n",
    "        self.target = torch.tensor(self.target, dtype=torch.float32, requires_grad=True)\n",
    "\n",
    "    def __len__(self):\n",
    "        return self.n_samples\n",
    "\n",
    "    def __getitem__(self, idx):\n",
    "        return self.data[idx], self.target[idx]\n",
    "\n",
    "# create a simple neural network\n",
    "class Net(nn.Module):\n",
    "    def __init__(self, n_features, n_targets):\n",
    "        super(Net, self).__init__()\n",
    "        self.fc1 = nn.Linear(n_features, 30)\n",
    "        self.fc2 = nn.Linear(30, 30)\n",
    "        self.fc3 = nn.Linear(30, 30)\n",
    "        self.fc4 = nn.Linear(30, n_targets)\n",
    "\n",
    "    def forward(self, x):\n",
    "        x = F.relu(self.fc1(x))\n",
    "        x = F.relu(self.fc2(x))\n",
    "        x = F.relu(self.fc3(x))\n",
    "        x = self.fc4(x)\n",
    "        return x\n",
    "\n",
    "# Instantiate the dataset\n",
    "n_samples = 10000\n",
    "n_features = 2\n",
    "n_targets = 2\n",
    "dataset = FDataset(n_samples, n_features)\n",
    "\n",
    "#create a dataloader\n",
    "dataloader = torch.utils.data.DataLoader(dataset, batch_size=5, shuffle=True)"
   ]
  },
  {
   "cell_type": "code",
   "execution_count": 177,
   "metadata": {},
   "outputs": [],
   "source": [
    "def grad(outputs, inputs):\n",
    "    \"\"\"Computes the partial derivative of \n",
    "    an output with respect to an input.\n",
    "    Args:\n",
    "        outputs: (N, 1) tensor\n",
    "        inputs: (N, D) tensor\n",
    "    \"\"\"\n",
    "    return torch.autograd.grad(\n",
    "        outputs, inputs, grad_outputs=torch.ones_like(outputs), create_graph=True\n",
    "    )\n",
    "\n",
    "def jacobian(func, inputs):\n",
    "    return torch.autograd.functional.jacobian(func, inputs, create_graph=True)"
   ]
  },
  {
   "cell_type": "code",
   "execution_count": 179,
   "metadata": {},
   "outputs": [
    {
     "data": {
      "text/plain": [
       "torch.Size([5, 2, 5, 2])"
      ]
     },
     "execution_count": 179,
     "metadata": {},
     "output_type": "execute_result"
    }
   ],
   "source": [
    "net = Net(n_features, n_targets).to('cuda:0')\n",
    "for data, target in dataloader:\n",
    "    data = data.to('cuda:0')\n",
    "    target = target.to('cuda:0')\n",
    "    output = net(data)\n",
    "    \n",
    "    gradient = jacobian(net, data)\n",
    "    break\n",
    "\n",
    "gradient.shape"
   ]
  },
  {
   "cell_type": "code",
   "execution_count": 171,
   "metadata": {},
   "outputs": [
    {
     "data": {
      "text/plain": [
       "tensor([[0.0310]], device='cuda:0', grad_fn=<AddmmBackward0>)"
      ]
     },
     "execution_count": 171,
     "metadata": {},
     "output_type": "execute_result"
    }
   ],
   "source": [
    "output"
   ]
  },
  {
   "cell_type": "code",
   "execution_count": 1,
   "metadata": {},
   "outputs": [
    {
     "name": "stdout",
     "output_type": "stream",
     "text": [
      "2.1.2\n"
     ]
    }
   ],
   "source": [
    "import torch\n",
    "print (torch.__version__)"
   ]
  },
  {
   "cell_type": "code",
   "execution_count": 31,
   "metadata": {},
   "outputs": [
    {
     "name": "stdout",
     "output_type": "stream",
     "text": [
      "g: tensor([[5., 7.],\n",
      "        [8., 9.]], requires_grad=True)\n",
      "T: tensor([[40., 25.],\n",
      "        [63., 49.]], grad_fn=<CatBackward0>)\n"
     ]
    }
   ],
   "source": [
    "g = torch.tensor ([[5.0, 7.0], [8.0, 9.0]], requires_grad = True)\n",
    "\n",
    "T = torch.cat([(g[0]*g[1]).reshape(-1, 1), (g[0]**2).reshape(-1, 1)], dim=1)\n",
    "\n",
    "print(\"g:\", g)\n",
    "print(\"T:\", T)"
   ]
  },
  {
   "cell_type": "code",
   "execution_count": 32,
   "metadata": {},
   "outputs": [
    {
     "data": {
      "text/plain": [
       "tensor([[[[0., 0.],\n",
       "          [0., 0.]],\n",
       "\n",
       "         [[0., 0.],\n",
       "          [0., 0.]]],\n",
       "\n",
       "\n",
       "        [[[0., 0.],\n",
       "          [0., 0.]],\n",
       "\n",
       "         [[0., 0.],\n",
       "          [0., 0.]]]])"
      ]
     },
     "execution_count": 32,
     "metadata": {},
     "output_type": "execute_result"
    }
   ],
   "source": [
    "torch.autograd.functional.jacobian(lambda g: T, g)"
   ]
  },
  {
   "cell_type": "code",
   "execution_count": 34,
   "metadata": {},
   "outputs": [
    {
     "data": {
      "text/plain": [
       "(tensor([[18.,  0.],\n",
       "         [ 5.,  0.]], grad_fn=<AddBackward0>),)"
      ]
     },
     "execution_count": 34,
     "metadata": {},
     "output_type": "execute_result"
    }
   ],
   "source": [
    "torch.autograd.grad(T[0], g, grad_outputs=torch.ones_like(T[0]), create_graph=True)"
   ]
  },
  {
   "cell_type": "code",
   "execution_count": null,
   "metadata": {},
   "outputs": [],
   "source": [
    "T_x = torch.autograd.grad (T, g[0], retain_graph=True, create_graph=True, allow_unused=True)   # creates graph of first derivative"
   ]
  }
 ],
 "metadata": {
  "kernelspec": {
   "display_name": "ml4science",
   "language": "python",
   "name": "python3"
  },
  "language_info": {
   "codemirror_mode": {
    "name": "ipython",
    "version": 3
   },
   "file_extension": ".py",
   "mimetype": "text/x-python",
   "name": "python",
   "nbconvert_exporter": "python",
   "pygments_lexer": "ipython3",
   "version": "3.9.18"
  }
 },
 "nbformat": 4,
 "nbformat_minor": 2
}
