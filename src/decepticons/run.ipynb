{
 "cells": [
  {
   "cell_type": "code",
   "execution_count": 1,
   "id": "initial_id",
   "metadata": {
    "ExecuteTime": {
     "end_time": "2024-02-27T20:54:08.623820900Z",
     "start_time": "2024-02-27T20:54:08.595608100Z"
    },
    "collapsed": true
   },
   "outputs": [],
   "source": [
    "from ingestion import run_model"
   ]
  },
  {
   "cell_type": "code",
   "execution_count": 2,
   "id": "5097b4de40ee629c",
   "metadata": {
    "ExecuteTime": {
     "end_time": "2024-02-27T20:54:08.637218100Z",
     "start_time": "2024-02-27T20:54:08.625822600Z"
    },
    "collapsed": false
   },
   "outputs": [],
   "source": [
    "name = \"Anthony\"\n",
    "root_dir = r\"C:/Users/antho/Desktop/ml4physim/src/\" #TODO: Add the root directory of the project here"
   ]
  },
  {
   "cell_type": "code",
   "execution_count": 3,
   "id": "31b60376",
   "metadata": {},
   "outputs": [
    {
     "name": "stdout",
     "output_type": "stream",
     "text": [
      "Using input_dir: C:/Users/antho/Desktop/ml4physim/src/Dataset\n",
      "Using output_dir: C:/Users/antho/Desktop/ml4physim/src/models/thrust_the_process/sample_result_submission\n",
      "Using program_dir: C:/Users/antho/Desktop/ml4physim/src/models/thrust_the_process\n",
      "Using submission_dir: C:/Users/antho/Desktop/ml4physim/src/models/thrust_the_process\n",
      "## Starting Ingestion program ##\n",
      "Run parameters:  {'evaluateonly': False, 'scoringonly': False, 'simulator_config': {'simulator_type': 'custom', 'simulator_file': 'my_custom_transformer', 'name': 'MyAugmentedSimulator', 'model': 'AugmentedSimulator', 'scaler_type': 'None'}, 'simulator_extra_parameters': {'nb_epochs': 300, 'lr': 0.003, 'subsampling': 100000, 'batch_size': 2000, 'dataloader_batch_size': 1, 'k': 1000, 'skeleton_method': 'random', 'skeleton_n_iter': 10, 'lambda_continuity': 1.0, 'lambda_pde': 1.0}, 'training_config': {}}\n",
      "Preparing benchmark\n",
      "Input attributes (features):  ('x-position', 'y-position', 'x-inlet_velocity', 'y-inlet_velocity', 'distance_function', 'x-normals', 'y-normals')\n",
      "Output attributes (targets):  ('x-velocity', 'y-velocity', 'pressure', 'turbulent_viscosity')\n",
      "Preparing scaler\n",
      "No scaler specified\n",
      "Preparing Simulator\n",
      "Loading custom simulator AugmentedSimulator\n",
      "Loading custom simulator my_custom_transformer\n",
      "Using GPU\n",
      "Training simulator\n",
      "Normalize train data\n",
      "Transform done\n",
      "Creating the dataset & computing the skeleton...\n"
     ]
    },
    {
     "name": "stderr",
     "output_type": "stream",
     "text": [
      "100%|██████████| 103/103 [00:00<00:00, 179.55it/s]\n"
     ]
    },
    {
     "name": "stdout",
     "output_type": "stream",
     "text": [
      "Dataset created.\n",
      "Start training\n"
     ]
    },
    {
     "name": "stderr",
     "output_type": "stream",
     "text": [
      "  0%|          | 0/300 [00:00<?, ?it/s]"
     ]
    },
    {
     "name": "stdout",
     "output_type": "stream",
     "text": [
      "Subsampling with 100000 samples per simulation and 2000 batch size\n",
      "nb_epochs: 300\n",
      "number of simulations: 103\n",
      "scheduler total_steps: 1545000\n",
      "Epoch:  1\n"
     ]
    },
    {
     "name": "stderr",
     "output_type": "stream",
     "text": []
    },
    {
     "name": "stdout",
     "output_type": "stream",
     "text": [
      "output tensor([[ 0.0223],\n",
      "        [-0.0005],\n",
      "        [-0.0003],\n",
      "        ...,\n",
      "        [-0.0053],\n",
      "        [-0.0003],\n",
      "        [-0.0009]], device='cuda:0', grad_fn=<DivBackward0>)\n",
      "post process tensor([[ 3.7480e+01,  3.3898e+00, -5.5898e+02,  1.7115e-01],\n",
      "        [ 3.7632e+01,  3.4689e+00, -5.5957e+02,  1.7210e-01],\n",
      "        [ 3.7486e+01,  3.3963e+00, -5.5874e+02,  1.7094e-01],\n",
      "        ...,\n",
      "        [ 3.7481e+01,  3.3838e+00, -5.5962e+02,  1.7159e-01],\n",
      "        [ 3.7494e+01,  3.4451e+00, -5.5602e+02,  1.7058e-01],\n",
      "        [ 3.7476e+01,  3.3818e+00, -5.5949e+02,  1.7152e-01]], device='cuda:0',\n",
      "       dtype=torch.float64, grad_fn=<AddBackward0>)\n",
      "torch.Size([2000, 4])\n",
      "post process grad x tensor([[12.2436],\n",
      "        [-2.8807],\n",
      "        [ 1.7932],\n",
      "        ...,\n",
      "        [ 0.4350],\n",
      "        [-0.4828],\n",
      "        [ 1.2448]], device='cuda:0', grad_fn=<DivBackward0>)\n",
      "post process first grad x tensor([[ 0.1997],\n",
      "        [ 0.0093],\n",
      "        [-0.0003],\n",
      "        ...,\n",
      "        [-0.0917],\n",
      "        [-0.0154],\n",
      "        [-0.0157]], device='cuda:0', grad_fn=<DivBackward0>)\n",
      "divergence tensor([[ 0.0026],\n",
      "        [ 0.0119],\n",
      "        [-0.1660],\n",
      "        ...,\n",
      "        [-0.2024],\n",
      "        [-0.0486],\n",
      "        [-0.1101]], device='cuda:0', grad_fn=<AddBackward0>)\n"
     ]
    },
    {
     "name": "stderr",
     "output_type": "stream",
     "text": [
      "0it [00:07, ?it/s]\n",
      "  0%|          | 0/300 [00:12<?, ?it/s]"
     ]
    },
    {
     "name": "stdout",
     "output_type": "stream",
     "text": [
      "total loss computed: tensor(1970.4253, device='cuda:0', dtype=torch.float64, grad_fn=<AddBackward0>)\n"
     ]
    },
    {
     "name": "stderr",
     "output_type": "stream",
     "text": [
      "\n"
     ]
    },
    {
     "ename": "RuntimeError",
     "evalue": "One of the differentiated Tensors appears to not have been used in the graph. Set allow_unused=True if this is the desired behavior.",
     "output_type": "error",
     "traceback": [
      "\u001b[1;31m---------------------------------------------------------------------------\u001b[0m",
      "\u001b[1;31mRuntimeError\u001b[0m                              Traceback (most recent call last)",
      "Cell \u001b[1;32mIn[3], line 3\u001b[0m\n\u001b[0;32m      1\u001b[0m model \u001b[38;5;241m=\u001b[39m \u001b[38;5;124m\"\u001b[39m\u001b[38;5;124mthrust_the_process\u001b[39m\u001b[38;5;124m\"\u001b[39m\n\u001b[0;32m      2\u001b[0m model_path \u001b[38;5;241m=\u001b[39m \u001b[38;5;124m\"\u001b[39m\u001b[38;5;124mmodels/\u001b[39m\u001b[38;5;124m\"\u001b[39m \u001b[38;5;241m+\u001b[39m model\n\u001b[1;32m----> 3\u001b[0m \u001b[43mrun_model\u001b[49m\u001b[43m(\u001b[49m\u001b[43mroot_dir\u001b[49m\u001b[43m,\u001b[49m\u001b[43m \u001b[49m\u001b[43mmodel_path\u001b[49m\u001b[43m)\u001b[49m\n",
      "File \u001b[1;32mc:\\Users\\antho\\Desktop\\ml4physim\\src\\decepticons\\ingestion.py:315\u001b[0m, in \u001b[0;36mrun_model\u001b[1;34m(root_dir, model_path, verbose)\u001b[0m\n\u001b[0;32m    313\u001b[0m \u001b[38;5;28mprint\u001b[39m(\u001b[38;5;124m\"\u001b[39m\u001b[38;5;124mTraining simulator\u001b[39m\u001b[38;5;124m\"\u001b[39m)\n\u001b[0;32m    314\u001b[0m start \u001b[38;5;241m=\u001b[39m time\u001b[38;5;241m.\u001b[39mtime()\n\u001b[1;32m--> 315\u001b[0m simulator\u001b[38;5;241m.\u001b[39mtrain(benchmark\u001b[38;5;241m.\u001b[39mtrain_dataset, \n\u001b[0;32m    316\u001b[0m             save_path\u001b[38;5;241m=\u001b[39m\u001b[38;5;28;01mNone\u001b[39;00m, \n\u001b[0;32m    317\u001b[0m             \u001b[38;5;241m*\u001b[39m\u001b[38;5;241m*\u001b[39mrun_parameters[\u001b[38;5;124m\"\u001b[39m\u001b[38;5;124mtraining_config\u001b[39m\u001b[38;5;124m\"\u001b[39m]\n\u001b[0;32m    318\u001b[0m             )\n\u001b[0;32m    319\u001b[0m training_time \u001b[38;5;241m=\u001b[39m time\u001b[38;5;241m.\u001b[39mtime() \u001b[38;5;241m-\u001b[39m start\n\u001b[0;32m    321\u001b[0m \u001b[38;5;28mprint\u001b[39m(\u001b[38;5;124m\"\u001b[39m\u001b[38;5;124mRun successfull in \u001b[39m\u001b[38;5;124m\"\u001b[39m \u001b[38;5;241m+\u001b[39m \u001b[38;5;28mstr\u001b[39m(training_time) \u001b[38;5;241m+\u001b[39m \u001b[38;5;124m\"\u001b[39m\u001b[38;5;124m seconds\u001b[39m\u001b[38;5;124m\"\u001b[39m)\n",
      "File \u001b[1;32mC:\\Users/antho/Desktop/ml4physim/src/models/thrust_the_process\\my_custom_transformer.py:397\u001b[0m, in \u001b[0;36mAugmentedSimulator.train\u001b[1;34m(self, train_dataset, save_path)\u001b[0m\n\u001b[0;32m    395\u001b[0m train_dataset \u001b[38;5;241m=\u001b[39m \u001b[38;5;28mself\u001b[39m\u001b[38;5;241m.\u001b[39mprocess_dataset(dataset\u001b[38;5;241m=\u001b[39mtrain_dataset,training\u001b[38;5;241m=\u001b[39m\u001b[38;5;28;01mTrue\u001b[39;00m)\n\u001b[0;32m    396\u001b[0m \u001b[38;5;28mprint\u001b[39m(\u001b[38;5;124m\"\u001b[39m\u001b[38;5;124mStart training\u001b[39m\u001b[38;5;124m\"\u001b[39m)\n\u001b[1;32m--> 397\u001b[0m model \u001b[38;5;241m=\u001b[39m \u001b[43mglobal_train\u001b[49m\u001b[43m(\u001b[49m\u001b[38;5;28;43mself\u001b[39;49m\u001b[38;5;241;43m.\u001b[39;49m\u001b[43mdevice\u001b[49m\u001b[43m,\u001b[49m\u001b[43m \u001b[49m\u001b[43mtrain_dataset\u001b[49m\u001b[43m,\u001b[49m\u001b[43m \u001b[49m\u001b[38;5;28;43mself\u001b[39;49m\u001b[38;5;241;43m.\u001b[39;49m\u001b[43mmodel\u001b[49m\u001b[43m,\u001b[49m\u001b[43m \u001b[49m\u001b[38;5;28;43mself\u001b[39;49m\u001b[38;5;241;43m.\u001b[39;49m\u001b[43mhparams\u001b[49m\u001b[43m,\u001b[49m\u001b[43mcriterion\u001b[49m\u001b[43m \u001b[49m\u001b[38;5;241;43m=\u001b[39;49m\u001b[43m \u001b[49m\u001b[38;5;124;43m'\u001b[39;49m\u001b[38;5;124;43mL1Smooth\u001b[39;49m\u001b[38;5;124;43m'\u001b[39;49m\u001b[43m,\u001b[49m\u001b[43m \u001b[49m\u001b[43mscaler\u001b[49m\u001b[38;5;241;43m=\u001b[39;49m\u001b[38;5;28;43mself\u001b[39;49m\u001b[38;5;241;43m.\u001b[39;49m\u001b[43mscaler\u001b[49m\u001b[43m)\u001b[49m\n\u001b[0;32m    398\u001b[0m \u001b[38;5;28mprint\u001b[39m(\u001b[38;5;124m\"\u001b[39m\u001b[38;5;124mTraining done\u001b[39m\u001b[38;5;124m\"\u001b[39m)\n",
      "File \u001b[1;32mC:\\Users/antho/Desktop/ml4physim/src/models/thrust_the_process\\my_custom_transformer.py:560\u001b[0m, in \u001b[0;36mglobal_train\u001b[1;34m(device, train_dataset, network, hparams, criterion, reg, scaler)\u001b[0m\n\u001b[0;32m    557\u001b[0m     train_loader \u001b[38;5;241m=\u001b[39m DataLoader(train_dataset_sampled, batch_size \u001b[38;5;241m=\u001b[39m hparams[\u001b[38;5;124m\"\u001b[39m\u001b[38;5;124mdataloader_batch_size\u001b[39m\u001b[38;5;124m\"\u001b[39m], shuffle \u001b[38;5;241m=\u001b[39m \u001b[38;5;28;01mTrue\u001b[39;00m, drop_last\u001b[38;5;241m=\u001b[39m\u001b[38;5;28;01mFalse\u001b[39;00m)\n\u001b[0;32m    558\u001b[0m     \u001b[38;5;28;01mdel\u001b[39;00m(train_dataset_sampled)\n\u001b[1;32m--> 560\u001b[0m train_loss, _, loss_surf_var, loss_vol_var, loss_surf, loss_vol \u001b[38;5;241m=\u001b[39m \u001b[43mtrain_model\u001b[49m\u001b[43m(\u001b[49m\u001b[43mdevice\u001b[49m\u001b[43m,\u001b[49m\u001b[43m \u001b[49m\u001b[43mmodel\u001b[49m\u001b[43m,\u001b[49m\u001b[43m \u001b[49m\u001b[43mtrain_loader\u001b[49m\u001b[43m,\u001b[49m\u001b[43m \u001b[49m\u001b[43moptimizer\u001b[49m\u001b[43m,\u001b[49m\u001b[43m \u001b[49m\u001b[43mlr_scheduler\u001b[49m\u001b[43m,\u001b[49m\u001b[43m \u001b[49m\u001b[43mcriterion\u001b[49m\u001b[43m,\u001b[49m\u001b[43m \u001b[49m\u001b[43mreg\u001b[49m\u001b[38;5;241;43m=\u001b[39;49m\u001b[43mreg\u001b[49m\u001b[43m,\u001b[49m\u001b[43m \u001b[49m\u001b[43mscaler\u001b[49m\u001b[38;5;241;43m=\u001b[39;49m\u001b[43mscaler\u001b[49m\u001b[43m,\u001b[49m\u001b[43m \u001b[49m\u001b[43mlambda_continuity\u001b[49m\u001b[38;5;241;43m=\u001b[39;49m\u001b[43mhparams\u001b[49m\u001b[43m[\u001b[49m\u001b[38;5;124;43m'\u001b[39;49m\u001b[38;5;124;43mlambda_continuity\u001b[39;49m\u001b[38;5;124;43m'\u001b[39;49m\u001b[43m]\u001b[49m\u001b[43m,\u001b[49m\u001b[43m \u001b[49m\u001b[43mlambda_pde\u001b[49m\u001b[38;5;241;43m=\u001b[39;49m\u001b[43mhparams\u001b[49m\u001b[43m[\u001b[49m\u001b[38;5;124;43m'\u001b[39;49m\u001b[38;5;124;43mlambda_pde\u001b[39;49m\u001b[38;5;124;43m'\u001b[39;49m\u001b[43m]\u001b[49m\u001b[43m)\u001b[49m\n\u001b[0;32m    561\u001b[0m \u001b[38;5;28;01mif\u001b[39;00m criterion \u001b[38;5;241m==\u001b[39m \u001b[38;5;124m'\u001b[39m\u001b[38;5;124mMSE_weighted\u001b[39m\u001b[38;5;124m'\u001b[39m:\n\u001b[0;32m    562\u001b[0m     train_loss \u001b[38;5;241m=\u001b[39m reg\u001b[38;5;241m*\u001b[39mloss_surf \u001b[38;5;241m+\u001b[39m loss_vol\n",
      "File \u001b[1;32mC:\\Users/antho/Desktop/ml4physim/src/models/thrust_the_process\\my_custom_transformer.py:639\u001b[0m, in \u001b[0;36mtrain_model\u001b[1;34m(device, model, train_loader, optimizer, scheduler, criterion, reg, scaler, lambda_continuity, lambda_pde)\u001b[0m\n\u001b[0;32m    637\u001b[0m loss_per_var \u001b[38;5;241m=\u001b[39m loss_criterion(output, targets, x_true, y_true, scaler)\u001b[38;5;241m.\u001b[39mmean(dim \u001b[38;5;241m=\u001b[39m \u001b[38;5;241m0\u001b[39m)\n\u001b[0;32m    638\u001b[0m total_loss \u001b[38;5;241m=\u001b[39m loss_per_var\u001b[38;5;241m.\u001b[39mmean()\n\u001b[1;32m--> 639\u001b[0m loss_surf_var \u001b[38;5;241m=\u001b[39m \u001b[43mloss_criterion\u001b[49m\u001b[43m(\u001b[49m\u001b[43moutput\u001b[49m\u001b[43m[\u001b[49m\u001b[43mdata_clone\u001b[49m\u001b[38;5;241;43m.\u001b[39;49m\u001b[43msurf\u001b[49m\u001b[43m,\u001b[49m\u001b[43m \u001b[49m\u001b[43m:\u001b[49m\u001b[43m]\u001b[49m\u001b[43m,\u001b[49m\u001b[43m \u001b[49m\u001b[43mtargets\u001b[49m\u001b[43m[\u001b[49m\u001b[43mdata_clone\u001b[49m\u001b[38;5;241;43m.\u001b[39;49m\u001b[43msurf\u001b[49m\u001b[43m,\u001b[49m\u001b[43m \u001b[49m\u001b[43m:\u001b[49m\u001b[43m]\u001b[49m\u001b[43m,\u001b[49m\u001b[43m \u001b[49m\u001b[43mx_true\u001b[49m\u001b[43m[\u001b[49m\u001b[43mdata_clone\u001b[49m\u001b[38;5;241;43m.\u001b[39;49m\u001b[43msurf\u001b[49m\u001b[43m,\u001b[49m\u001b[43m \u001b[49m\u001b[43m:\u001b[49m\u001b[43m]\u001b[49m\u001b[43m,\u001b[49m\u001b[43m \u001b[49m\u001b[43my_true\u001b[49m\u001b[43m[\u001b[49m\u001b[43mdata_clone\u001b[49m\u001b[38;5;241;43m.\u001b[39;49m\u001b[43msurf\u001b[49m\u001b[43m,\u001b[49m\u001b[43m \u001b[49m\u001b[43m:\u001b[49m\u001b[43m]\u001b[49m\u001b[43m,\u001b[49m\u001b[43m \u001b[49m\u001b[43mscaler\u001b[49m\u001b[43m)\u001b[49m\u001b[38;5;241m.\u001b[39mmean(dim \u001b[38;5;241m=\u001b[39m \u001b[38;5;241m0\u001b[39m)\n\u001b[0;32m    640\u001b[0m loss_vol_var \u001b[38;5;241m=\u001b[39m loss_criterion(output[\u001b[38;5;241m~\u001b[39mdata_clone\u001b[38;5;241m.\u001b[39msurf, :], targets[\u001b[38;5;241m~\u001b[39mdata_clone\u001b[38;5;241m.\u001b[39msurf, :], x_true[\u001b[38;5;241m~\u001b[39mdata_clone\u001b[38;5;241m.\u001b[39msurf, :], y_true[\u001b[38;5;241m~\u001b[39mdata_clone\u001b[38;5;241m.\u001b[39msurf, :], scaler)\u001b[38;5;241m.\u001b[39mmean(dim \u001b[38;5;241m=\u001b[39m \u001b[38;5;241m0\u001b[39m)\n\u001b[0;32m    641\u001b[0m loss_surf \u001b[38;5;241m=\u001b[39m loss_surf_var\u001b[38;5;241m.\u001b[39mmean()\n",
      "File \u001b[1;32mC:\\Users/antho/Desktop/ml4physim/src/models/thrust_the_process\\my_custom_transformer.py:305\u001b[0m, in \u001b[0;36mPINN_loss.__call__\u001b[1;34m(self, output, target, x_true, y_true, scaler)\u001b[0m\n\u001b[0;32m    296\u001b[0m \u001b[38;5;250m\u001b[39m\u001b[38;5;124;03m\"\"\"\u001b[39;00m\n\u001b[0;32m    297\u001b[0m \u001b[38;5;124;03mArgs:\u001b[39;00m\n\u001b[0;32m    298\u001b[0m \u001b[38;5;124;03m    output: (N, 4) tensor: model output computed wrt inputs stiched with scaled x_true and y_true\u001b[39;00m\n\u001b[1;32m   (...)\u001b[0m\n\u001b[0;32m    302\u001b[0m \u001b[38;5;124;03m    scaler: StandardScalerIterative object\u001b[39;00m\n\u001b[0;32m    303\u001b[0m \u001b[38;5;124;03m\"\"\"\u001b[39;00m\n\u001b[0;32m    304\u001b[0m \u001b[38;5;66;03m####################   computing the continuity loss   ####################\u001b[39;00m\n\u001b[1;32m--> 305\u001b[0m loss_continuity \u001b[38;5;241m=\u001b[39m \u001b[38;5;28;43mself\u001b[39;49m\u001b[38;5;241;43m.\u001b[39;49m\u001b[43mcontinuity_loss\u001b[49m\u001b[43m(\u001b[49m\u001b[43moutput\u001b[49m\u001b[43m,\u001b[49m\u001b[43m \u001b[49m\u001b[43mx_true\u001b[49m\u001b[43m,\u001b[49m\u001b[43m \u001b[49m\u001b[43my_true\u001b[49m\u001b[43m,\u001b[49m\u001b[43m \u001b[49m\u001b[43mscaler\u001b[49m\u001b[43m)\u001b[49m\n\u001b[0;32m    307\u001b[0m \u001b[38;5;66;03m####################    computing the RANS pde loss    ####################\u001b[39;00m\n\u001b[0;32m    308\u001b[0m loss_pde \u001b[38;5;241m=\u001b[39m \u001b[38;5;28mself\u001b[39m\u001b[38;5;241m.\u001b[39mpde_loss(output, x_true, y_true, scaler)\n",
      "File \u001b[1;32mC:\\Users/antho/Desktop/ml4physim/src/models/thrust_the_process\\my_custom_transformer.py:237\u001b[0m, in \u001b[0;36mPINN_loss.continuity_loss\u001b[1;34m(self, output, x_true, y_true, scaler)\u001b[0m\n\u001b[0;32m    235\u001b[0m \u001b[38;5;28;01mdef\u001b[39;00m \u001b[38;5;21mcontinuity_loss\u001b[39m(\u001b[38;5;28mself\u001b[39m, output, x_true, y_true, scaler) \u001b[38;5;241m-\u001b[39m\u001b[38;5;241m>\u001b[39m Tensor:\n\u001b[0;32m    236\u001b[0m     \u001b[38;5;66;03m# unscaling the output data to compute the gradients properly\u001b[39;00m\n\u001b[1;32m--> 237\u001b[0m     zz \u001b[38;5;241m=\u001b[39m \u001b[43mtorch\u001b[49m\u001b[38;5;241;43m.\u001b[39;49m\u001b[43mautograd\u001b[49m\u001b[38;5;241;43m.\u001b[39;49m\u001b[43mgrad\u001b[49m\u001b[43m(\u001b[49m\u001b[43moutputs\u001b[49m\u001b[38;5;241;43m=\u001b[39;49m\u001b[43moutput\u001b[49m\u001b[43m,\u001b[49m\u001b[43m \u001b[49m\u001b[43minputs\u001b[49m\u001b[38;5;241;43m=\u001b[39;49m\u001b[43mx_true\u001b[49m\u001b[43m,\u001b[49m\u001b[43m \u001b[49m\u001b[43mgrad_outputs\u001b[49m\u001b[38;5;241;43m=\u001b[39;49m\u001b[43mtorch\u001b[49m\u001b[38;5;241;43m.\u001b[39;49m\u001b[43mones_like\u001b[49m\u001b[43m(\u001b[49m\u001b[43moutput\u001b[49m\u001b[43m)\u001b[49m\u001b[43m,\u001b[49m\u001b[43m \u001b[49m\u001b[43mcreate_graph\u001b[49m\u001b[38;5;241;43m=\u001b[39;49m\u001b[38;5;28;43;01mTrue\u001b[39;49;00m\u001b[43m)\u001b[49m[\u001b[38;5;241m0\u001b[39m]\n\u001b[0;32m    238\u001b[0m     \u001b[38;5;28mprint\u001b[39m(\u001b[38;5;124m\"\u001b[39m\u001b[38;5;124moutput\u001b[39m\u001b[38;5;124m\"\u001b[39m, zz)\n\u001b[0;32m    239\u001b[0m     post_processed \u001b[38;5;241m=\u001b[39m torch\u001b[38;5;241m.\u001b[39mtensor(scaler\u001b[38;5;241m.\u001b[39m_std_y)\u001b[38;5;241m.\u001b[39mto(\u001b[38;5;28mself\u001b[39m\u001b[38;5;241m.\u001b[39mdevice)\u001b[38;5;241m*\u001b[39moutput \u001b[38;5;241m+\u001b[39m torch\u001b[38;5;241m.\u001b[39mtensor(scaler\u001b[38;5;241m.\u001b[39m_m_y)\u001b[38;5;241m.\u001b[39mto(\u001b[38;5;28mself\u001b[39m\u001b[38;5;241m.\u001b[39mdevice)\n",
      "File \u001b[1;32mc:\\Users\\antho\\.conda\\envs\\ml4science\\lib\\site-packages\\torch\\autograd\\__init__.py:394\u001b[0m, in \u001b[0;36mgrad\u001b[1;34m(outputs, inputs, grad_outputs, retain_graph, create_graph, only_inputs, allow_unused, is_grads_batched, materialize_grads)\u001b[0m\n\u001b[0;32m    390\u001b[0m     result \u001b[38;5;241m=\u001b[39m _vmap_internals\u001b[38;5;241m.\u001b[39m_vmap(vjp, \u001b[38;5;241m0\u001b[39m, \u001b[38;5;241m0\u001b[39m, allow_none_pass_through\u001b[38;5;241m=\u001b[39m\u001b[38;5;28;01mTrue\u001b[39;00m)(\n\u001b[0;32m    391\u001b[0m         grad_outputs_\n\u001b[0;32m    392\u001b[0m     )\n\u001b[0;32m    393\u001b[0m \u001b[38;5;28;01melse\u001b[39;00m:\n\u001b[1;32m--> 394\u001b[0m     result \u001b[38;5;241m=\u001b[39m \u001b[43mVariable\u001b[49m\u001b[38;5;241;43m.\u001b[39;49m\u001b[43m_execution_engine\u001b[49m\u001b[38;5;241;43m.\u001b[39;49m\u001b[43mrun_backward\u001b[49m\u001b[43m(\u001b[49m\u001b[43m  \u001b[49m\u001b[38;5;66;43;03m# Calls into the C++ engine to run the backward pass\u001b[39;49;00m\n\u001b[0;32m    395\u001b[0m \u001b[43m        \u001b[49m\u001b[43mt_outputs\u001b[49m\u001b[43m,\u001b[49m\n\u001b[0;32m    396\u001b[0m \u001b[43m        \u001b[49m\u001b[43mgrad_outputs_\u001b[49m\u001b[43m,\u001b[49m\n\u001b[0;32m    397\u001b[0m \u001b[43m        \u001b[49m\u001b[43mretain_graph\u001b[49m\u001b[43m,\u001b[49m\n\u001b[0;32m    398\u001b[0m \u001b[43m        \u001b[49m\u001b[43mcreate_graph\u001b[49m\u001b[43m,\u001b[49m\n\u001b[0;32m    399\u001b[0m \u001b[43m        \u001b[49m\u001b[43mt_inputs\u001b[49m\u001b[43m,\u001b[49m\n\u001b[0;32m    400\u001b[0m \u001b[43m        \u001b[49m\u001b[43mallow_unused\u001b[49m\u001b[43m,\u001b[49m\n\u001b[0;32m    401\u001b[0m \u001b[43m        \u001b[49m\u001b[43maccumulate_grad\u001b[49m\u001b[38;5;241;43m=\u001b[39;49m\u001b[38;5;28;43;01mFalse\u001b[39;49;00m\u001b[43m,\u001b[49m\n\u001b[0;32m    402\u001b[0m \u001b[43m    \u001b[49m\u001b[43m)\u001b[49m  \u001b[38;5;66;03m# Calls into the C++ engine to run the backward pass\u001b[39;00m\n\u001b[0;32m    403\u001b[0m \u001b[38;5;28;01mif\u001b[39;00m materialize_grads:\n\u001b[0;32m    404\u001b[0m     result \u001b[38;5;241m=\u001b[39m \u001b[38;5;28mtuple\u001b[39m(\n\u001b[0;32m    405\u001b[0m         output\n\u001b[0;32m    406\u001b[0m         \u001b[38;5;28;01mif\u001b[39;00m output \u001b[38;5;129;01mis\u001b[39;00m \u001b[38;5;129;01mnot\u001b[39;00m \u001b[38;5;28;01mNone\u001b[39;00m\n\u001b[0;32m    407\u001b[0m         \u001b[38;5;28;01melse\u001b[39;00m torch\u001b[38;5;241m.\u001b[39mzeros_like(\u001b[38;5;28minput\u001b[39m, requires_grad\u001b[38;5;241m=\u001b[39m\u001b[38;5;28;01mTrue\u001b[39;00m)\n\u001b[0;32m    408\u001b[0m         \u001b[38;5;28;01mfor\u001b[39;00m (output, \u001b[38;5;28minput\u001b[39m) \u001b[38;5;129;01min\u001b[39;00m \u001b[38;5;28mzip\u001b[39m(result, t_inputs)\n\u001b[0;32m    409\u001b[0m     )\n",
      "\u001b[1;31mRuntimeError\u001b[0m: One of the differentiated Tensors appears to not have been used in the graph. Set allow_unused=True if this is the desired behavior."
     ]
    }
   ],
   "source": [
    "model = \"thrust_the_process\"\n",
    "model_path = \"models/\" + model\n",
    "run_model(root_dir, model_path)"
   ]
  },
  {
   "cell_type": "code",
   "execution_count": 3,
   "id": "1ee2a9315c2aec97",
   "metadata": {
    "ExecuteTime": {
     "end_time": "2024-02-27T20:54:08.640917200Z",
     "start_time": "2024-02-27T20:54:08.636617700Z"
    },
    "collapsed": false
   },
   "outputs": [],
   "source": [
    "model_names = [\"megatron\", \"starscream\", \"ramjet\", \"bonecrusher\", \"rumble\", \"galvatron\", \"skywarp\"]\n",
    "\n",
    "partition_size = len(model_names) // 2\n",
    "          \n",
    "if name == \"Anton\":\n",
    "    models = model_names[:partition_size]\n",
    "elif name == \"Anthony\":\n",
    "    models = model_names[partition_size:]\n",
    "else:\n",
    "    raise ValueError(\"Name not recognized\")"
   ]
  },
  {
   "cell_type": "code",
   "execution_count": 2,
   "id": "cd9db08c97461297",
   "metadata": {
    "ExecuteTime": {
     "end_time": "2024-02-27T20:05:36.733188700Z",
     "start_time": "2024-02-27T20:05:36.731300400Z"
    },
    "collapsed": false
   },
   "outputs": [],
   "source": [
    "for model in models:\n",
    "    model_path = \"models/\" + model\n",
    "    run_model(root_dir, model_path)"
   ]
  },
  {
   "cell_type": "code",
   "execution_count": 3,
   "id": "14b3456a",
   "metadata": {},
   "outputs": [],
   "source": [
    "megatron_path = r\"C:\\Users\\antho\\Desktop\\ml4physim\\src\\models\\megatron\\my_custom_transformer.py\""
   ]
  },
  {
   "cell_type": "code",
   "execution_count": 4,
   "id": "8bd67920",
   "metadata": {},
   "outputs": [],
   "source": [
    "exec(open(megatron_path).read())"
   ]
  },
  {
   "cell_type": "code",
   "execution_count": null,
   "id": "75e05c38",
   "metadata": {},
   "outputs": [],
   "source": [
    "model = AugmentedSimulator"
   ]
  }
 ],
 "metadata": {
  "kernelspec": {
   "display_name": "Python 3",
   "language": "python",
   "name": "python3"
  },
  "language_info": {
   "codemirror_mode": {
    "name": "ipython",
    "version": 3
   },
   "file_extension": ".py",
   "mimetype": "text/x-python",
   "name": "python",
   "nbconvert_exporter": "python",
   "pygments_lexer": "ipython3",
   "version": "3.9.18"
  }
 },
 "nbformat": 4,
 "nbformat_minor": 5
}
