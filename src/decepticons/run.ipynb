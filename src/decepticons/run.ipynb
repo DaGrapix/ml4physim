{
 "cells": [
  {
   "cell_type": "code",
   "execution_count": 1,
   "id": "initial_id",
   "metadata": {
    "collapsed": true,
    "ExecuteTime": {
     "end_time": "2024-02-27T20:54:08.623820900Z",
     "start_time": "2024-02-27T20:54:08.595608100Z"
    }
   },
   "outputs": [],
   "source": [
    "from ingestion import run_model"
   ]
  },
  {
   "cell_type": "code",
   "outputs": [],
   "source": [
    "name = \"Anthony\"\n",
    "root_dir = \"\" #TODO: Add the root directory of the project here"
   ],
   "metadata": {
    "collapsed": false,
    "ExecuteTime": {
     "end_time": "2024-02-27T20:54:08.637218100Z",
     "start_time": "2024-02-27T20:54:08.625822600Z"
    }
   },
   "id": "5097b4de40ee629c",
   "execution_count": 2
  },
  {
   "cell_type": "code",
   "outputs": [],
   "source": [
    "model_names = [\"megatron\", \"starscream\", \"ramjet\", \"bonecrusher\", \"rumble\", \"galvatron\", \"skywarp\"]\n",
    "\n",
    "partition_size = len(model_names) // 2\n",
    "          \n",
    "if name == \"Anton\":\n",
    "    models = model_names[:partition_size]\n",
    "elif name == \"Anthony\":\n",
    "    models = model_names[partition_size:]\n",
    "else:\n",
    "    raise ValueError(\"Name not recognized\")"
   ],
   "metadata": {
    "collapsed": false,
    "ExecuteTime": {
     "end_time": "2024-02-27T20:54:08.640917200Z",
     "start_time": "2024-02-27T20:54:08.636617700Z"
    }
   },
   "id": "1ee2a9315c2aec97",
   "execution_count": 3
  },
  {
   "cell_type": "code",
   "outputs": [],
   "source": [
    "for model in models:\n",
    "    model_path = \"models/\" + model\n",
    "    run_model(root_dir, model_path)"
   ],
   "metadata": {
    "collapsed": false,
    "ExecuteTime": {
     "end_time": "2024-02-27T20:05:36.733188700Z",
     "start_time": "2024-02-27T20:05:36.731300400Z"
    }
   },
   "id": "cd9db08c97461297",
   "execution_count": 2
  }
 ],
 "metadata": {
  "kernelspec": {
   "display_name": "Python 3",
   "language": "python",
   "name": "python3"
  },
  "language_info": {
   "codemirror_mode": {
    "name": "ipython",
    "version": 2
   },
   "file_extension": ".py",
   "mimetype": "text/x-python",
   "name": "python",
   "nbconvert_exporter": "python",
   "pygments_lexer": "ipython2",
   "version": "2.7.6"
  }
 },
 "nbformat": 4,
 "nbformat_minor": 5
}
