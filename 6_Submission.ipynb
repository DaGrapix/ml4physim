{
 "cells": [
  {
   "cell_type": "markdown",
   "metadata": {},
   "source": [
    "# How to create a submission in codabench"
   ]
  },
  {
   "cell_type": "markdown",
   "metadata": {},
   "source": [
    "The aim of this notebook is to show how to create a submission. It present necessary and optionnal components."
   ]
  },
  {
   "cell_type": "markdown",
   "metadata": {},
   "source": [
    "#### Download the starting_kit from the competition page\n",
    "\n",
    "<img src=\"utils/img/sample_submission.png\" alt=\"train mesh\" height=300 ALIGN=\"middle\">\n",
    "\n",
    "This starting kit correspond to an example of a valid submission"
   ]
  },
  {
   "cell_type": "markdown",
   "metadata": {},
   "source": [
    "## Composition\n",
    "\n",
    "A submission is composed of 7 files, 3 are mandatory with the other depending on the type of submission:\n",
    "- parameters.json (mandatory)\n",
    "- config.ini (mandatory)\n",
    "- scaler_parameters.py (mandatory)\n",
    "- my_augmented_simulator.py\n",
    "- my_scaler.py\n",
    "- results.json"
   ]
  },
  {
   "cell_type": "markdown",
   "metadata": {},
   "source": [
    "## Submission\n",
    "Submission in codabench will be made through the \"My Submissions\" tab. A zip containing the files associated with the submission is uploaded."
   ]
  },
  {
   "cell_type": "markdown",
   "metadata": {},
   "source": [
    "## Files content"
   ]
  },
  {
   "cell_type": "markdown",
   "metadata": {},
   "source": [
    "### parameters.json\n",
    "\n",
    "This file is used to describe the submission. It indicates to the server which type of submission is being run (training, without training, scoring only) and how to configure it. "
   ]
  },
  {
   "cell_type": "code",
   "execution_count": null,
   "metadata": {},
   "outputs": [],
   "source": [
    "{\n",
    "  \"evaluateonly\": false,\n",
    "  \"scoringonly\": false,\n",
    "  \"simulator_config\": {\n",
    "    \"custom_simulator\": false,\n",
    "    \"name\": \"MyAugmentedSimulator\",\n",
    "    \"model\": \"TorchFullyConnected\",\n",
    "    \"model_type\": \"fully_connected\",\n",
    "    \"custom_scaler\": false,\n",
    "    \"scaler_class\": \"standard_scaler_iterative\",\n",
    "    \"scaler\": \"StandardScalerIterative\",\n",
    "    \"config_name\": \"DEFAULT\",\n",
    "    \"architecture_type\": \"Classical\"\n",
    "  },\n",
    "  \"simulator_extra_parameters\": {},\n",
    "  \"training_config\": {\n",
    "    \"epochs\": 1\n",
    "  }\n",
    "}"
   ]
  },
  {
   "cell_type": "markdown",
   "metadata": {},
   "source": [
    "- `evaluateonly` : set to true if training was already done and the trained model is provided. \n",
    "- `scoringonly` : set to true if training and evaluation was already done and a results.json file is provided.\n",
    "##### simulator_config\n",
    "This object is used to indicate the configuration of the augmented simulator :\n",
    "- `custom_simulator`: boolean, indicates if a custom model is provided in `my_augmented_simulator.py`\n",
    "- `name`: Name of the simulator\n",
    "- `model`: Model name, either of the implementation in `my_augmented_simulator.py`or of an available model in LIPS\n",
    "- `model_type`: Used for model already implemented in LIPS for loading  \n",
    "- `custom_scaler`: boolean, indicates if a custom scaler is provided in `my_scaler.py`\n",
    "- `scaler_class`: Used for scaler already implemented in LIPS for loading\n",
    "- `scaler`: Name of the scaler to be loaded either from LIPS or `my_scaler.py`\n",
    "- `config_name`: Name of the configuration to be used from `config.ini`\n",
    "- `architecture_type`: name of the architecture (default : \"Classical\")\n",
    "##### simulator_extra_parameters\n",
    "- `simulator_extra_parameters`: An object containing custom input parameters for the model, it will be passed to the model. \n",
    "##### training_config\n",
    "- `training_config`: An object containing input parameters for the training phase, it will be passed when the `train` function is called. \n"
   ]
  },
  {
   "cell_type": "markdown",
   "metadata": {},
   "source": [
    "### config.ini\n",
    "\n",
    "Configuration file for the model, see `4_How_to_contribute`, the section defined by `config_name` will be used."
   ]
  },
  {
   "cell_type": "markdown",
   "metadata": {},
   "source": [
    "### scaler_parameter.py\n",
    "\n",
    "This file is used to generate the parameters for the scaler. The example provided show how to use it for recreating the 1st example from `4_How_to_contribute`"
   ]
  },
  {
   "cell_type": "markdown",
   "metadata": {},
   "source": [
    "### my_augmented_simulator.py\n",
    "\n",
    "This file is used to implement a custom model. This model needs to be runnable by the LIPS framework. The example provided show how to use it for recreating the 2nd example from `4_How_to_contribute`"
   ]
  },
  {
   "cell_type": "markdown",
   "metadata": {},
   "source": [
    "### my_scaler.py\n",
    "\n",
    "This file is used to implement a custom scaler. The example provided show how to use it for recreating an already implemented scaler (used in `4_How_to_contribute`). "
   ]
  },
  {
   "cell_type": "markdown",
   "metadata": {},
   "source": [
    "### results.json\n",
    "\n",
    "Used in combination with `scoringonly`: true, no training or evaluation will be run, the file will be send directly for scoring (only available during the warmup phase)"
   ]
  },
  {
   "cell_type": "markdown",
   "metadata": {},
   "source": [
    "### trained_model\n",
    "\n",
    "Used in combination with `evaluateonly`: true, contains a saved trained model (using the save function from the simulator). In this case, training is skipped and the saved model loaded."
   ]
  }
 ],
 "metadata": {
  "kernelspec": {
   "display_name": "Python 3 (ipykernel)",
   "language": "python",
   "name": "python3"
  },
  "language_info": {
   "codemirror_mode": {
    "name": "ipython",
    "version": 3
   },
   "file_extension": ".py",
   "mimetype": "text/x-python",
   "name": "python",
   "nbconvert_exporter": "python",
   "pygments_lexer": "ipython3",
   "version": "3.8.10"
  }
 },
 "nbformat": 4,
 "nbformat_minor": 4
}
